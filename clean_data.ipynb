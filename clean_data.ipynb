{
 "cells": [
  {
   "cell_type": "markdown",
   "metadata": {},
   "source": [
    "# Imports"
   ]
  },
  {
   "cell_type": "code",
   "execution_count": null,
   "metadata": {},
   "outputs": [],
   "source": [
    "import pandas as pd\n",
    "import numpy as np\n",
    "from autocorrect import Speller\n",
    "import nltk\n",
    "nltk.download('stopwords')\n",
    "from nltk.corpus import stopwords\n",
    "from nltk.tokenize import wordpunct_tokenize\n",
    "from ast import literal_eval"
   ]
  },
  {
   "cell_type": "markdown",
   "metadata": {},
   "source": [
    "# Load raw data"
   ]
  },
  {
   "cell_type": "code",
   "execution_count": null,
   "metadata": {},
   "outputs": [],
   "source": [
    "raw = pd.read_csv(\"data/raw_data.csv\")\n",
    "raw.head()"
   ]
  },
  {
   "cell_type": "markdown",
   "metadata": {},
   "source": [
    "# Adjust columns"
   ]
  },
  {
   "cell_type": "code",
   "execution_count": null,
   "metadata": {},
   "outputs": [],
   "source": [
    "# rename some columns\n",
    "df = raw.copy()\n",
    "df = df.rename(columns={\"Experience Tags\":\"Experience\",\"Can Help With\":\"Skills\"})"
   ]
  },
  {
   "cell_type": "markdown",
   "metadata": {},
   "source": [
    "# Parse keywords"
   ]
  },
  {
   "cell_type": "code",
   "execution_count": null,
   "metadata": {},
   "outputs": [],
   "source": [
    "experience_tags = [\n",
    "    \"Enterprise\",\n",
    "    \"Healthcare\",\n",
    "    \"Marketplace\",\n",
    "    \"Academia\",\n",
    "    \"Analytics\",\n",
    "    \"Biotech\",\n",
    "    \"Ecommerce\",\n",
    "    \"FinTech\",\n",
    "    \"Future of Work\",\n",
    "    \"Future of Food\",\n",
    "    \"Insurance\",\n",
    "    \"Science\",\n",
    "    \"Blockchain/Crypto\",\n",
    "    \"Direct to Consumer\",\n",
    "    \"Consumer\",\n",
    "    \"AI/ML\",\n",
    "    \"B2B\",\n",
    "    \"Climate\",\n",
    "    \"Community\",\n",
    "    \"Government\",\n",
    "    \"SaaS\",\n",
    "    \"Ecommerce\",\n",
    "    \"Coaching\",\n",
    "    \"Developer Tools\",\n",
    "    \"Clean Technology\",\n",
    "    \"IOT\",\n",
    "    \"Productivity\",\n",
    "    \"Real Estate\",\n",
    "    \"Social\",\n",
    "    \"Mental Health/Wellness\",\n",
    "    \"Talent\",\n",
    "    \"Hardware\",\n",
    "    \"Education\",\n",
    "    \"No-Code\",\n",
    "    \"Gaming\",\n",
    "    \"Transportation & Travel\",\n",
    "    \"Venture\",\n",
    "    \"Robotics\",\n",
    "    \"People Ops\",\n",
    "    \"VR/AR\",\n",
    "    \"Drones\",\n",
    "    \"Security\",\n",
    "    \"Legal\",\n",
    "    \"Social Impact\",\n",
    "    \"Construction\",\n",
    "]"
   ]
  },
  {
   "cell_type": "code",
   "execution_count": null,
   "metadata": {},
   "outputs": [],
   "source": [
    "skill_tags = [\n",
    "    \"Software Engineering\",\n",
    "    \"Business Development\",\n",
    "    \"Product Management\",\n",
    "    \"Research\",\n",
    "    \"Communications\",\n",
    "    \"Data Science\",\n",
    "    \"Operations\",\n",
    "    \"Growth\",\n",
    "    \"Analytics\",\n",
    "    \"Marketing\",\n",
    "    \"Product Management\",\n",
    "    \"Recruiting\",\n",
    "    \"C-Suite Executives\",\n",
    "    \"Sales\",\n",
    "    \"Design\",\n",
    "    \"Customer Service\",\n",
    "    \"Finance\",\n",
    "    \"Hardware Engineering\",\n",
    "]"
   ]
  },
  {
   "cell_type": "code",
   "execution_count": null,
   "metadata": {},
   "outputs": [],
   "source": [
    "stage_tags = [\n",
    "    \"Open to new ideas\",\n",
    "    \"In early stages of exploring a specific idea\",\n",
    "    \"Raising funding\",\n",
    "    \"Built a basic prototype/MVP\",\n",
    "    \"Starting to onboard customers\",\n",
    "    \"Seed+\"\n",
    "]"
   ]
  },
  {
   "cell_type": "code",
   "execution_count": null,
   "metadata": {},
   "outputs": [],
   "source": [
    "objective_tags = [\n",
    "    \"Looking for co-founder\",\n",
    "    \"Looking to join another team\",\n",
    "    \"Looking for first employees\"\n",
    "]"
   ]
  },
  {
   "cell_type": "code",
   "execution_count": null,
   "metadata": {},
   "outputs": [],
   "source": [
    "interest_tags = experience_tags"
   ]
  },
  {
   "cell_type": "code",
   "execution_count": null,
   "metadata": {},
   "outputs": [],
   "source": [
    "looking_for_tags = skill_tags"
   ]
  },
  {
   "cell_type": "code",
   "execution_count": null,
   "metadata": {},
   "outputs": [],
   "source": [
    "all_tags = {\n",
    "    \"Experience\": experience_tags,\n",
    "    \"Skills\": skill_tags,\n",
    "    \"Stages\": stage_tags,\n",
    "    \"Objectives\": objective_tags,\n",
    "    \"Interests\": interest_tags,\n",
    "    \"Looking for\": looking_for_tags\n",
    "}"
   ]
  },
  {
   "cell_type": "code",
   "execution_count": null,
   "metadata": {},
   "outputs": [],
   "source": [
    "# split into tokens/phrases\n",
    "cols_to_parse = [\"Experience\", \"Skills\", \"Stages\", \"Objectives\", \"Interests\", \"Looking for\"]\n",
    "for idx, row in df.iterrows():\n",
    "    for col in cols_to_parse:\n",
    "        try:\n",
    "            if isinstance(row[col],str) and row[col] != \"NaN\":\n",
    "                row[col] = list(np.unique([tag for tag in all_tags[col] if tag in row[col]]))\n",
    "        except:\n",
    "            print(f\"error in row {idx}, column {col}\")\n",
    "df"
   ]
  },
  {
   "cell_type": "markdown",
   "metadata": {},
   "source": [
    "# Save cleaned data"
   ]
  },
  {
   "cell_type": "code",
   "execution_count": null,
   "metadata": {},
   "outputs": [],
   "source": [
    "# cast everything as strings\n",
    "df = df.replace(np.nan, \"NaN\", regex=True)"
   ]
  },
  {
   "cell_type": "code",
   "execution_count": null,
   "metadata": {},
   "outputs": [],
   "source": [
    "df.to_csv(\"data/clean_data.csv\",index=False)"
   ]
  },
  {
   "cell_type": "markdown",
   "metadata": {},
   "source": [
    "# Save all responses"
   ]
  },
  {
   "cell_type": "code",
   "execution_count": null,
   "metadata": {},
   "outputs": [],
   "source": [
    "df = df.astype(str)"
   ]
  },
  {
   "cell_type": "code",
   "execution_count": null,
   "metadata": {},
   "outputs": [],
   "source": [
    "cols_to_include = [\"Experience\",\"Skills\",\"Interests\",\"Stages\",\"Objectives\",\"Looking for\"]\n",
    "all_responses = {\"Name\":[],\"Category\":[],\"Response\":[]}\n",
    "for idx,row in df.iterrows():\n",
    "    name = row[\"Name\"]\n",
    "    for col in cols_to_include:\n",
    "        if row[col] != \"nan\" and row[col] != \"NaN\":\n",
    "            responses = literal_eval(row[col])\n",
    "            for resp in responses:\n",
    "                all_responses[\"Name\"].append(name)\n",
    "                all_responses[\"Category\"].append(col)\n",
    "                all_responses[\"Response\"].append(resp)\n",
    "all_responses = pd.DataFrame.from_dict(all_responses)\n",
    "all_responses"
   ]
  },
  {
   "cell_type": "code",
   "execution_count": null,
   "metadata": {},
   "outputs": [],
   "source": [
    "all_responses.to_csv(\"data/response_data.csv\",index=False)"
   ]
  },
  {
   "cell_type": "markdown",
   "metadata": {},
   "source": [
    "# Replace phrases with keywords"
   ]
  },
  {
   "cell_type": "code",
   "execution_count": null,
   "metadata": {},
   "outputs": [],
   "source": [
    "phrase_map = {\n",
    "    \"Open to new ideas\": \"ideas\",\n",
    "    \"In early stages of exploring a specific idea\": \"exploring\",\n",
    "    \"Raising funding\": \"funding\",\n",
    "    \"Built a basic prototype/MVP\": \"prototype\",\n",
    "    \"Starting to onboard customers\": \"customers\",\n",
    "    \"Seed+\": \"seed\",\n",
    "    \"Looking for co-founder\": \"partner\",\n",
    "    \"Looking to join another team\": \"team\",\n",
    "    \"Looking for first employees\": \"employees\"\n",
    "}\n",
    "\n",
    "cols = [\"Stages\",\"Objectives\"]\n",
    "for idx, row in df.iterrows():\n",
    "    for col in cols:\n",
    "        try:\n",
    "            if isinstance(row[col],str) and row[col] != \"nan\" and row[col] != \"NaN\":\n",
    "                row[col] = [phrase_map[tag] if tag in phrase_map else tag for tag in literal_eval(row[col])]\n",
    "        except:\n",
    "            print(f\"error in row {idx}, column {col}\")\n",
    "df"
   ]
  },
  {
   "cell_type": "markdown",
   "metadata": {},
   "source": [
    "# Convert/remove acronyms/jargon"
   ]
  },
  {
   "cell_type": "code",
   "execution_count": null,
   "metadata": {},
   "outputs": [],
   "source": [
    "jargon_map = {\n",
    "    \"AI\": \"Artificial Intelligence\",\n",
    "    \"ML\": \"Machine Learning\",\n",
    "    \"B2B\": \"Business to Business\",\n",
    "    \"SaaS\": \"Software as a Service\",\n",
    "    \"FinTech\": \"Financial Technology\",\n",
    "    \"Biotech\": \"Biotechnology\",\n",
    "    \"Crypto\": \"Cryptocurrency\",\n",
    "    \"Ops\": \"Operations\",\n",
    "    \"VR/AR\": \"Virtual Reality and Artificial Reality\",\n",
    "    \"IOT\": \"Internet of Things\",\n",
    "    \"MVP\": \"minimum viable product\",\n",
    "    \"C-Suite\": \"\"\n",
    "}"
   ]
  },
  {
   "cell_type": "code",
   "execution_count": null,
   "metadata": {
    "scrolled": true
   },
   "outputs": [],
   "source": [
    "for idx, row in df.iterrows():\n",
    "    for col in cols_to_parse:\n",
    "        try:\n",
    "            if isinstance(row[col],str) and row[col]!=\"nan\" and row[col]!=\"NaN\":\n",
    "                tags = [tag.replace(\"/\",\" and \") for tag in literal_eval(row[col])]\n",
    "                row[col] = [jargon_map[term] if term in jargon_map else term for tag in tags for term in tag.split()]   \n",
    "        except:\n",
    "            print(f\"error in row {idx}, column {col}\")\n",
    "df"
   ]
  },
  {
   "cell_type": "markdown",
   "metadata": {},
   "source": [
    "# Process data\n",
    "- tokenize\n",
    "- remove non-letters\n",
    "- convert to lowercase\n",
    "- spell-check"
   ]
  },
  {
   "cell_type": "code",
   "execution_count": null,
   "metadata": {},
   "outputs": [],
   "source": [
    "spell = Speller()\n",
    "stop_words = np.unique(stopwords.words('english') + [\"the\"])\n",
    "for idx, row in df.iterrows():\n",
    "    for col in cols_to_parse:\n",
    "        try:\n",
    "            if isinstance(row[col],list):\n",
    "                tokens = wordpunct_tokenize(\" \".join([term.lower() for term in row[col]]))\n",
    "                row[col] = [spell(token) for token in tokens if token.isalpha() and token not in stop_words]\n",
    "        except:\n",
    "            print(f\"error in row {idx}, column {col}\")\n",
    "df"
   ]
  },
  {
   "cell_type": "markdown",
   "metadata": {},
   "source": [
    "# Save processed data"
   ]
  },
  {
   "cell_type": "code",
   "execution_count": null,
   "metadata": {},
   "outputs": [],
   "source": [
    "df.to_csv(\"data/processed_data.csv\",index=False)"
   ]
  },
  {
   "cell_type": "code",
   "execution_count": null,
   "metadata": {},
   "outputs": [],
   "source": []
  }
 ],
 "metadata": {
  "kernelspec": {
   "display_name": "Python 3",
   "language": "python",
   "name": "python3"
  },
  "language_info": {
   "codemirror_mode": {
    "name": "ipython",
    "version": 3
   },
   "file_extension": ".py",
   "mimetype": "text/x-python",
   "name": "python",
   "nbconvert_exporter": "python",
   "pygments_lexer": "ipython3",
   "version": "3.6.5"
  }
 },
 "nbformat": 4,
 "nbformat_minor": 5
}
