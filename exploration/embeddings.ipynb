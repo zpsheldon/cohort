{
 "cells": [
  {
   "cell_type": "markdown",
   "id": "nasty-teacher",
   "metadata": {},
   "source": [
    "# Imports"
   ]
  },
  {
   "cell_type": "code",
   "execution_count": null,
   "id": "forty-bread",
   "metadata": {},
   "outputs": [],
   "source": [
    "%pip install gensim"
   ]
  },
  {
   "cell_type": "code",
   "execution_count": null,
   "id": "desperate-trinity",
   "metadata": {},
   "outputs": [],
   "source": [
    "from sklearn.metrics.pairwise import cosine_similarity\n",
    "import spacy\n",
    "import nltk\n",
    "import pandas as pd\n",
    "import numpy as np\n",
    "import matplotlib.pyplot as plt\n",
    "from mpl_toolkits.mplot3d import Axes3D\n",
    "from sklearn.decomposition import PCA\n",
    "from gensim.models import KeyedVectors\n",
    "from gensim.scripts.glove2word2vec import glove2word2vec"
   ]
  },
  {
   "cell_type": "markdown",
   "id": "focal-aquarium",
   "metadata": {},
   "source": [
    "# SpaCy OntoNotes embedding"
   ]
  },
  {
   "cell_type": "code",
   "execution_count": null,
   "id": "organized-princess",
   "metadata": {},
   "outputs": [],
   "source": [
    "# load model\n",
    "nlp = spacy.load(\"en_core_web_lg\")\n",
    "# word data\n",
    "sentence = \"king is to queen as man is to woman\"\n",
    "# calculate average word embedding for each profile\n",
    "embedding = nlp(sentence)"
   ]
  },
  {
   "cell_type": "code",
   "execution_count": null,
   "id": "ambient-wednesday",
   "metadata": {},
   "outputs": [],
   "source": [
    "# king - man + woman = queen\n",
    "oop_word_embed = (embedding[0].vector - embedding[5].vector) + embedding[-1].vector\n",
    "oop_word_embed.shape"
   ]
  },
  {
   "cell_type": "code",
   "execution_count": null,
   "id": "requested-deputy",
   "metadata": {},
   "outputs": [],
   "source": [
    "arr_embedding = np.zeros((5,300))\n",
    "arr_embedding[0] = embedding[0].vector\n",
    "arr_embedding[1] = embedding[5].vector\n",
    "arr_embedding[2] = embedding[-1].vector\n",
    "arr_embedding[3] = embedding[3].vector\n",
    "arr_embedding[4] = oop_word_embed"
   ]
  },
  {
   "cell_type": "code",
   "execution_count": null,
   "id": "moving-spouse",
   "metadata": {},
   "outputs": [],
   "source": [
    "words = [\n",
    "    \"king\",\n",
    "    \"man\",\n",
    "    \"woman\",\n",
    "    \"queen\",\n",
    "    \"(king - man) + woman\"\n",
    "]"
   ]
  },
  {
   "cell_type": "code",
   "execution_count": null,
   "id": "plastic-enforcement",
   "metadata": {},
   "outputs": [],
   "source": [
    "# visualize in 2D\n",
    "pca = PCA(n_components=2)\n",
    "embed_2d = pca.fit_transform(arr_embedding)\n",
    "\n",
    "plt.figure(figsize=(9,6))\n",
    "plt.scatter(embed_2d[:, 0], embed_2d[:, 1])\n",
    "for i, w in enumerate(words):\n",
    "    plt.annotate(w, xy=(embed_2d[i, 0], embed_2d[i, 1]))\n",
    "plt.xlabel(\"dimension 1\",fontsize=16)\n",
    "plt.ylabel(\"dimension 2\",fontsize=16)\n",
    "plt.title(\"SpaCy OntoNotes Model\")\n",
    "plt.show()"
   ]
  },
  {
   "cell_type": "code",
   "execution_count": null,
   "id": "annual-sword",
   "metadata": {},
   "outputs": [],
   "source": [
    "# visualize in 3d\n",
    "%matplotlib notebook\n",
    "pca = PCA(n_components=3)\n",
    "embed_3d = pca.fit_transform(arr_embedding)\n",
    "\n",
    "fig = plt.figure(figsize=(9,6))\n",
    "ax = fig.gca(projection='3d')\n",
    "ax.scatter(embed_3d[:, 0], embed_3d[:, 1], embed_3d[:, 2])\n",
    "for i, w in enumerate(words):\n",
    "    ax.text(embed_3d[i, 0], embed_3d[i, 1], embed_3d[i, 2], w)\n",
    "ax.set_xlabel(\"dimension 1\",fontsize=16)\n",
    "ax.set_ylabel(\"dimension 2\",fontsize=16)\n",
    "ax.set_zlabel(\"dimension 3\",fontsize=16)\n",
    "ax.set_title(\"SpaCy OntoNotes Model\")\n",
    "plt.show()\n"
   ]
  },
  {
   "cell_type": "markdown",
   "id": "regular-marina",
   "metadata": {},
   "source": [
    "# Google's word2vec embedding"
   ]
  },
  {
   "cell_type": "code",
   "execution_count": null,
   "id": "surprised-glasgow",
   "metadata": {},
   "outputs": [],
   "source": [
    "model = KeyedVectors.load_word2vec_format('GoogleNews-vectors-negative300.bin', binary=True)"
   ]
  },
  {
   "cell_type": "code",
   "execution_count": null,
   "id": "adjacent-communications",
   "metadata": {},
   "outputs": [],
   "source": [
    "result = model.most_similar(positive=['woman', 'king'], negative=['man'], topn=1)\n",
    "print(result)"
   ]
  },
  {
   "cell_type": "code",
   "execution_count": null,
   "id": "attended-cartridge",
   "metadata": {},
   "outputs": [],
   "source": [
    "google_embedding = np.array([model[word] for word in words[:-1]])\n",
    "google_embedding.shape"
   ]
  },
  {
   "cell_type": "code",
   "execution_count": null,
   "id": "given-repair",
   "metadata": {},
   "outputs": [],
   "source": [
    "# visualize in 2D\n",
    "pca = PCA(n_components=2)\n",
    "embed_2d = pca.fit_transform(google_embedding)\n",
    "\n",
    "plt.figure(figsize=(9,6))\n",
    "plt.scatter(embed_2d[:, 0], embed_2d[:, 1])\n",
    "for i, w in enumerate(words[:-1]):\n",
    "    plt.annotate(w, xy=(embed_2d[i, 0], embed_2d[i, 1]))\n",
    "plt.xlabel(\"dimension 1\",fontsize=16)\n",
    "plt.ylabel(\"dimension 2\",fontsize=16)\n",
    "plt.title(\"GoogleNews Word2Vec Model\")\n",
    "plt.show()"
   ]
  },
  {
   "cell_type": "code",
   "execution_count": null,
   "id": "clean-keeping",
   "metadata": {},
   "outputs": [],
   "source": []
  }
 ],
 "metadata": {
  "kernelspec": {
   "display_name": "Python 3",
   "language": "python",
   "name": "python3"
  },
  "language_info": {
   "codemirror_mode": {
    "name": "ipython",
    "version": 3
   },
   "file_extension": ".py",
   "mimetype": "text/x-python",
   "name": "python",
   "nbconvert_exporter": "python",
   "pygments_lexer": "ipython3",
   "version": "3.7.7"
  }
 },
 "nbformat": 4,
 "nbformat_minor": 5
}
