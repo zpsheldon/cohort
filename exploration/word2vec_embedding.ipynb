{
 "cells": [
  {
   "cell_type": "markdown",
   "id": "attractive-essence",
   "metadata": {},
   "source": [
    "https://machinelearningmastery.com/develop-word-embeddings-python-gensim/"
   ]
  },
  {
   "cell_type": "markdown",
   "id": "paperback-stereo",
   "metadata": {},
   "source": [
    "# Imports"
   ]
  },
  {
   "cell_type": "code",
   "execution_count": null,
   "id": "connected-store",
   "metadata": {},
   "outputs": [],
   "source": [
    "%pip install gensim"
   ]
  },
  {
   "cell_type": "code",
   "execution_count": null,
   "id": "independent-dialogue",
   "metadata": {},
   "outputs": [],
   "source": [
    "import numpy as np\n",
    "import gensim\n",
    "from gensim.models import Word2Vec\n",
    "import nltk\n",
    "from nltk.corpus import gutenberg\n",
    "from sklearn.decomposition import PCA\n",
    "import matplotlib.pyplot as plt"
   ]
  },
  {
   "cell_type": "code",
   "execution_count": null,
   "id": "eligible-approach",
   "metadata": {},
   "outputs": [],
   "source": [
    "nltk.download('gutenberg')"
   ]
  },
  {
   "cell_type": "code",
   "execution_count": null,
   "id": "criminal-density",
   "metadata": {},
   "outputs": [],
   "source": [
    "nltk.download('punkt')"
   ]
  },
  {
   "cell_type": "markdown",
   "id": "hungarian-technician",
   "metadata": {},
   "source": [
    "# Load & process sentence data"
   ]
  },
  {
   "cell_type": "code",
   "execution_count": null,
   "id": "mobile-longitude",
   "metadata": {},
   "outputs": [],
   "source": [
    "# load data\n",
    "whitman_fileid = gutenberg.fileids()[-1]\n",
    "sentences = gutenberg.sents(whitman_fileid)"
   ]
  },
  {
   "cell_type": "code",
   "execution_count": null,
   "id": "european-matter",
   "metadata": {},
   "outputs": [],
   "source": [
    "print(f\"# of sentences - {len(sentences)}\")\n",
    "mean_words_per_sent = np.round(np.mean([len(sent) for sent in sentences]),2)\n",
    "print(f\"Mean words/sentence - {mean_words_per_sent}\")"
   ]
  },
  {
   "cell_type": "code",
   "execution_count": null,
   "id": "fundamental-fifty",
   "metadata": {},
   "outputs": [],
   "source": [
    "# remove punctuation and symbols\n",
    "proc_sentences = []\n",
    "for sentence in sentences:\n",
    "    curr_sentence = []\n",
    "    for word in sentence:\n",
    "        if word.isalpha():\n",
    "            curr_sentence.append(word.lower())\n",
    "    proc_sentences.append(curr_sentence)\n",
    "print(proc_sentences)"
   ]
  },
  {
   "cell_type": "code",
   "execution_count": null,
   "id": "initial-creator",
   "metadata": {},
   "outputs": [],
   "source": [
    "print(f\"# of sentences - {len(proc_sentences)}\")\n",
    "mean_words_per_sent = np.round(np.mean([len(sent) for sent in proc_sentences]),2)\n",
    "print(f\"Mean words/sentence - {mean_words_per_sent}\")"
   ]
  },
  {
   "cell_type": "markdown",
   "id": "numerous-anatomy",
   "metadata": {},
   "source": [
    "# Custom Word2Vec embedding"
   ]
  },
  {
   "cell_type": "code",
   "execution_count": null,
   "id": "variable-method",
   "metadata": {},
   "outputs": [],
   "source": [
    "model = Word2Vec(proc_sentences)"
   ]
  },
  {
   "cell_type": "code",
   "execution_count": null,
   "id": "desirable-general",
   "metadata": {},
   "outputs": [],
   "source": [
    "# tokens\n",
    "words = list(model.wv.vocab)\n",
    "print(words)"
   ]
  },
  {
   "cell_type": "code",
   "execution_count": null,
   "id": "agricultural-zealand",
   "metadata": {},
   "outputs": [],
   "source": [
    "# vector for particular token\n",
    "print(model['leaves'])"
   ]
  },
  {
   "cell_type": "markdown",
   "id": "upper-august",
   "metadata": {},
   "source": [
    "### Visualize embedding"
   ]
  },
  {
   "cell_type": "code",
   "execution_count": null,
   "id": "temporal-folder",
   "metadata": {},
   "outputs": [],
   "source": [
    "# get subset of vectors from model for visualization\n",
    "n_words = 50\n",
    "X = model[model.wv.vocab][:n_words]\n",
    "\n",
    "# create 2D PCA model of embeddings\n",
    "pca = PCA(n_components=2)\n",
    "result = pca.fit_transform(X)"
   ]
  },
  {
   "cell_type": "code",
   "execution_count": null,
   "id": "stunning-vaccine",
   "metadata": {},
   "outputs": [],
   "source": [
    "# visualize embedding in 2D\n",
    "plt.figure(figsize=(15,10))\n",
    "plt.scatter(result[:, 0], result[:, 1])\n",
    "# annotate words\n",
    "words = list(model.wv.vocab)[:n_words]\n",
    "for i, word in enumerate(words):\n",
    "    plt.annotate(word, xy=(result[i, 0], result[i, 1]))\n",
    "plt.xlabel(\"dimension 1\")\n",
    "plt.ylabel(\"dimension 2\")\n",
    "plt.show()"
   ]
  },
  {
   "cell_type": "code",
   "execution_count": null,
   "id": "enormous-france",
   "metadata": {},
   "outputs": [],
   "source": []
  }
 ],
 "metadata": {
  "kernelspec": {
   "display_name": "Python 3",
   "language": "python",
   "name": "python3"
  },
  "language_info": {
   "codemirror_mode": {
    "name": "ipython",
    "version": 3
   },
   "file_extension": ".py",
   "mimetype": "text/x-python",
   "name": "python",
   "nbconvert_exporter": "python",
   "pygments_lexer": "ipython3",
   "version": "3.7.7"
  }
 },
 "nbformat": 4,
 "nbformat_minor": 5
}
