{
 "cells": [
  {
   "cell_type": "markdown",
   "id": "meaning-canada",
   "metadata": {},
   "source": [
    "# Imports"
   ]
  },
  {
   "cell_type": "code",
   "execution_count": null,
   "id": "prospective-matrix",
   "metadata": {},
   "outputs": [],
   "source": [
    "import pandas as pd\n",
    "import numpy as np\n",
    "import matplotlib.pyplot as plt\n",
    "from matplotlib.backends.backend_pdf import PdfPages\n",
    "from gensim.models import KeyedVectors\n",
    "import visualization as viz\n",
    "import metrics as met\n",
    "from ast import literal_eval\n",
    "import seaborn as sns"
   ]
  },
  {
   "cell_type": "markdown",
   "id": "partial-booth",
   "metadata": {},
   "source": [
    "# Load data"
   ]
  },
  {
   "cell_type": "code",
   "execution_count": null,
   "id": "patient-copper",
   "metadata": {},
   "outputs": [],
   "source": [
    "proc_data = pd.read_csv(\"data/processed_data.csv\")\n",
    "proc_data"
   ]
  },
  {
   "cell_type": "code",
   "execution_count": null,
   "id": "acoustic-playlist",
   "metadata": {},
   "outputs": [],
   "source": [
    "clean_data = pd.read_csv(\"data/clean_data.csv\")\n",
    "clean_data"
   ]
  },
  {
   "cell_type": "markdown",
   "id": "surface-vermont",
   "metadata": {},
   "source": [
    "# Remove users with under a certain number of responses\n",
    "- there must be at least 1 response to each category used in the model"
   ]
  },
  {
   "cell_type": "code",
   "execution_count": null,
   "id": "toxic-young",
   "metadata": {},
   "outputs": [],
   "source": [
    "indices_to_remove = []\n",
    "cat_response_thresh = 1\n",
    "cols_to_include = [\"Experience\", \"Skills\", \"Interests\", \"Objectives\", \"Stages\"]\n",
    "for idx, row in proc_data.iterrows():\n",
    "    for col in cols_to_include:\n",
    "        if isinstance(row[col],str) and row[col] != \"NaN\" and row[col] != \"nan\":\n",
    "            n_responses = len(literal_eval(row[col]))\n",
    "            if n_responses < cat_response_thresh:\n",
    "                indices_to_remove.append(idx)\n",
    "        else:\n",
    "            indices_to_remove.append(idx)\n",
    "proc_data = proc_data.drop(index=indices_to_remove).reset_index(drop=True)\n",
    "proc_data"
   ]
  },
  {
   "cell_type": "markdown",
   "id": "revised-divorce",
   "metadata": {},
   "source": [
    "# Word embedding\n",
    "- Google News Word2Vec\n",
    "- trained on about 100 billion words from Google News\n",
    "- contains 3 million words and phrases"
   ]
  },
  {
   "cell_type": "code",
   "execution_count": null,
   "id": "bizarre-obligation",
   "metadata": {},
   "outputs": [],
   "source": [
    "model = KeyedVectors.load_word2vec_format('models/GoogleNews-vectors-negative300.bin', binary=True)"
   ]
  },
  {
   "cell_type": "code",
   "execution_count": null,
   "id": "distinguished-concord",
   "metadata": {
    "scrolled": true
   },
   "outputs": [],
   "source": [
    "user = \"Jacob Sheldon\"\n",
    "responses = []\n",
    "cols_to_include = [\"Experience\", \"Skills\", \"Stages\", \"Interests\", \"Objectives\"]\n",
    "for idx, row in proc_data[proc_data[\"Name\"]==user].iterrows():\n",
    "    for col in cols_to_include:\n",
    "        try:\n",
    "            if isinstance(row[col],str) and row[col] != \"NaN\":\n",
    "                responses.extend(literal_eval(row[col]))\n",
    "        except:\n",
    "            user = row[\"Name\"]\n",
    "            print(f\"error in row {idx}, column {col}, user {user}\")\n",
    "\n",
    "embedding = []\n",
    "for word in responses:\n",
    "    try:\n",
    "        embedding.append(model[word])\n",
    "    except:\n",
    "        print(f\"{word} not found in model\")\n",
    "\n",
    "fig = viz.plot_embedding(embedding,responses)"
   ]
  },
  {
   "cell_type": "code",
   "execution_count": null,
   "id": "norman-crawford",
   "metadata": {},
   "outputs": [],
   "source": [
    "terms_not_in_model = []\n",
    "user_embeddings = []\n",
    "all_users = proc_data[\"Name\"].tolist()\n",
    "users = proc_data[\"Name\"].tolist()\n",
    "ave_user_embedding = []\n",
    "cols_to_include = [\"Experience\", \"Skills\", \"Interests\", \"Objectives\", \"Stages\"]\n",
    "for idx, row in proc_data.iterrows():\n",
    "    # get all responses\n",
    "    responses = []\n",
    "    for col in cols_to_include:\n",
    "        try:\n",
    "            if isinstance(row[col],str) and row[col] != \"NaN\":\n",
    "                responses.extend(literal_eval(row[col]))\n",
    "        except:\n",
    "            user = row[\"Name\"]\n",
    "            print(f\"error in row {idx}, column {col}, user {user}\")\n",
    "    \n",
    "    if len(responses) == 0:\n",
    "        users.remove(row[\"Name\"])\n",
    "        continue\n",
    "    \n",
    "    # embedding for each word\n",
    "    embedding = []\n",
    "    for resp in responses:\n",
    "        try:\n",
    "            embedding.append(model[resp])\n",
    "        except:\n",
    "            if resp not in terms_not_in_model:\n",
    "                print(f\"{resp} not found in model\")\n",
    "                terms_not_in_model.append(resp)\n",
    "            else:\n",
    "                pass\n",
    "    # fill in nans with zeros\n",
    "    embedding = [np.nan_to_num(word_embed,copy=True,nan=0.0) for word_embed in embedding]\n",
    "    \n",
    "    user_embeddings.append(embedding)\n",
    "    \n",
    "    # average\n",
    "    ave_user_embedding.append(np.nanmean(np.array(embedding),axis=0))"
   ]
  },
  {
   "cell_type": "code",
   "execution_count": null,
   "id": "automatic-diagram",
   "metadata": {},
   "outputs": [],
   "source": [
    "fig = viz.plot_embedding(ave_user_embedding,users,include_labels=False)"
   ]
  },
  {
   "cell_type": "code",
   "execution_count": null,
   "id": "arbitrary-nutrition",
   "metadata": {},
   "outputs": [],
   "source": [
    "# fig = viz.plot_embedding(np.array(ave_user_embedding),users,include_labels=False,dim=\"3d\")"
   ]
  },
  {
   "cell_type": "markdown",
   "id": "beginning-tuesday",
   "metadata": {},
   "source": [
    "# Similarity rankings"
   ]
  },
  {
   "cell_type": "code",
   "execution_count": null,
   "id": "moderate-policy",
   "metadata": {},
   "outputs": [],
   "source": [
    "cos_similarity, similarity_scores = met.compute_similarity_rankings(ave_user_embedding, users)"
   ]
  },
  {
   "cell_type": "code",
   "execution_count": null,
   "id": "handled-chile",
   "metadata": {},
   "outputs": [],
   "source": [
    "plt.figure(figsize=(15,12))\n",
    "sns.heatmap(cos_similarity,cmap=\"Blues\",xticklabels=users,yticklabels=users)\n",
    "plt.title(\"Cosine similarity\")\n",
    "plt.show()"
   ]
  },
  {
   "cell_type": "code",
   "execution_count": null,
   "id": "literary-florist",
   "metadata": {},
   "outputs": [],
   "source": [
    "sorted_recs = similarity_scores.sort_values(\"Score\",ascending=False)\n",
    "sorted_recs[:20]"
   ]
  },
  {
   "cell_type": "markdown",
   "id": "israeli-facility",
   "metadata": {},
   "source": [
    "# Visualize top matches across users"
   ]
  },
  {
   "cell_type": "code",
   "execution_count": null,
   "id": "romance-vietnam",
   "metadata": {},
   "outputs": [],
   "source": [
    "rand_users = np.random.choice(users,size=10,replace=False)\n",
    "columns = [\"Experience\", \"Skills\", \"Interests\", \"Objectives\", \"Stages\"]\n",
    "with PdfPages(\"recommendations/GoogleWord2Vec_recommendations.pdf\") as pdf:\n",
    "    for user in rand_users:\n",
    "        # get top rec\n",
    "        top_rec_df = similarity_scores[similarity_scores[\"User1\"]==user].sort_values(\"Ranking\",ascending=True)\n",
    "\n",
    "        # shared features\n",
    "        rec = top_rec_df[\"User2\"].tolist()[0]\n",
    "        score = top_rec_df[\"Score\"].tolist()[0]\n",
    "        fig = viz.compare_users(user, rec, columns, score)\n",
    "        pdf.savefig(fig)\n",
    "        \n",
    "        # locations in embed space\n",
    "        fig = viz.plot_embedding(\n",
    "            ave_user_embedding,\n",
    "            [u if u in [user,rec] else \"\" for u in users],\n",
    "            highlight_labels=True,\n",
    "            xlims=(-0.25,0.5),\n",
    "            ylims=(-0.5,0.5),\n",
    "            figsize=(12,9),\n",
    "            dim=\"3d\"\n",
    "        )\n",
    "        pdf.savefig(fig)"
   ]
  },
  {
   "cell_type": "markdown",
   "id": "textile-karen",
   "metadata": {},
   "source": [
    "# Visualize matches for one user"
   ]
  },
  {
   "cell_type": "code",
   "execution_count": null,
   "id": "buried-magnitude",
   "metadata": {},
   "outputs": [],
   "source": [
    "user = \"Jacob Sheldon\"\n",
    "columns = [\"Experience\", \"Skills\", \"Interests\", \"Objectives\"]\n",
    "rec_df = similarity_scores[similarity_scores[\"User1\"]==user].sort_values(\"Ranking\",ascending=True)\n",
    "with PdfPages(f\"recommendations/GoogleWord2Vec_recommendations_{user}.pdf\") as pdf:\n",
    "    for idx,row in rec_df[:5].iterrows():\n",
    "        # get rec\n",
    "        rec = row[\"User2\"]\n",
    "        score = row[\"Score\"]\n",
    "\n",
    "        # compare features\n",
    "        fig = viz.compare_users(user, rec, columns, score)\n",
    "        pdf.savefig(fig)\n",
    "        \n",
    "        # locations in embed space\n",
    "        fig = viz.plot_embedding(\n",
    "            ave_user_embedding,\n",
    "            [u if u in [user,rec] else \"\" for u in users],\n",
    "            highlight_labels=True,\n",
    "            figsize=(12,9),\n",
    "            dim=\"3d\"\n",
    "        )\n",
    "        pdf.savefig(fig)"
   ]
  },
  {
   "cell_type": "code",
   "execution_count": null,
   "id": "considered-effort",
   "metadata": {},
   "outputs": [],
   "source": []
  },
  {
   "cell_type": "code",
   "execution_count": null,
   "id": "listed-escape",
   "metadata": {},
   "outputs": [],
   "source": []
  }
 ],
 "metadata": {
  "kernelspec": {
   "display_name": "Python 3",
   "language": "python",
   "name": "python3"
  },
  "language_info": {
   "codemirror_mode": {
    "name": "ipython",
    "version": 3
   },
   "file_extension": ".py",
   "mimetype": "text/x-python",
   "name": "python",
   "nbconvert_exporter": "python",
   "pygments_lexer": "ipython3",
   "version": "3.7.7"
  }
 },
 "nbformat": 4,
 "nbformat_minor": 5
}
