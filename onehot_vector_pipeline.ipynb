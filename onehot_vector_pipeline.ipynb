{
 "cells": [
  {
   "cell_type": "markdown",
   "id": "viral-reset",
   "metadata": {},
   "source": [
    "# Imports"
   ]
  },
  {
   "cell_type": "code",
   "execution_count": null,
   "id": "current-parent",
   "metadata": {},
   "outputs": [],
   "source": [
    "import pandas as pd\n",
    "import numpy as np\n",
    "from ast import literal_eval\n",
    "import seaborn as sns\n",
    "import matplotlib.pyplot as plt\n",
    "from sklearn.metrics.pairwise import cosine_similarity\n",
    "import visualization as viz\n",
    "from nltk import FreqDist"
   ]
  },
  {
   "cell_type": "markdown",
   "id": "numerous-gather",
   "metadata": {},
   "source": [
    "# Load data"
   ]
  },
  {
   "cell_type": "code",
   "execution_count": null,
   "id": "specific-liechtenstein",
   "metadata": {},
   "outputs": [],
   "source": [
    "clean_data = pd.read_csv(\"data/clean_data.csv\")\n",
    "clean_data"
   ]
  },
  {
   "cell_type": "code",
   "execution_count": null,
   "id": "valuable-kazakhstan",
   "metadata": {},
   "outputs": [],
   "source": [
    "clean_data = clean_data.astype(str)"
   ]
  },
  {
   "cell_type": "markdown",
   "id": "helpful-narrative",
   "metadata": {},
   "source": [
    "# Convert to one-hot vector"
   ]
  },
  {
   "cell_type": "code",
   "execution_count": null,
   "id": "moved-taxation",
   "metadata": {},
   "outputs": [],
   "source": [
    "all_keywords = []\n",
    "user_keywords = {}\n",
    "cols_to_include = [\"Experience\",\"Skills\",\"Interests\",\"Stages\",\"Objectives\",\"Looking for\"]\n",
    "for idx,row in clean_data.iterrows():\n",
    "    user_keywords[row[\"Name\"]] = []\n",
    "    for col in cols_to_include:\n",
    "        if row[col] != \"nan\":\n",
    "            all_keywords.extend(literal_eval(row[col]))\n",
    "            user_keywords[row[\"Name\"]].extend(literal_eval(row[col]))\n",
    "all_uniq_keywords = np.unique(all_keywords)"
   ]
  },
  {
   "cell_type": "code",
   "execution_count": null,
   "id": "subsequent-muscle",
   "metadata": {},
   "outputs": [],
   "source": [
    "onehot_arr = np.zeros((len(user_keywords),len(all_uniq_keywords)))\n",
    "users = list(user_keywords.keys())\n",
    "for i,user in enumerate(user_keywords):\n",
    "    for j,keyword in enumerate(all_uniq_keywords):\n",
    "        onehot_arr[i,j] = int(keyword in user_keywords[user])\n",
    "onehot_df = pd.DataFrame(onehot_arr,columns=all_uniq_keywords,index=users)\n",
    "onehot_df"
   ]
  },
  {
   "cell_type": "code",
   "execution_count": null,
   "id": "sustained-handling",
   "metadata": {},
   "outputs": [],
   "source": [
    "fig = viz.plot_embedding(onehot_df.to_numpy(),labels=users,include_labels=False)"
   ]
  },
  {
   "cell_type": "markdown",
   "id": "christian-divorce",
   "metadata": {},
   "source": [
    "# Measure cosine distances between users"
   ]
  },
  {
   "cell_type": "code",
   "execution_count": null,
   "id": "atlantic-chester",
   "metadata": {},
   "outputs": [],
   "source": [
    "plt.figure(figsize=(15,10))\n",
    "sns.heatmap(onehot_df,cmap=\"Blues\")\n",
    "plt.title(\"Keyword Responses\")\n",
    "plt.show()"
   ]
  },
  {
   "cell_type": "code",
   "execution_count": null,
   "id": "pharmaceutical-hormone",
   "metadata": {},
   "outputs": [],
   "source": [
    "cos_similarity = cosine_similarity(onehot_df.to_numpy())\n",
    "\n",
    "plt.figure(figsize=(15,12))\n",
    "sns.heatmap(cos_similarity,cmap=\"Blues\",xticklabels=users,yticklabels=users)\n",
    "plt.title(\"Cosine similarity\")\n",
    "plt.show()"
   ]
  },
  {
   "cell_type": "markdown",
   "id": "suffering-alpha",
   "metadata": {},
   "source": [
    "# Rank similarity"
   ]
  },
  {
   "cell_type": "code",
   "execution_count": null,
   "id": "related-mobility",
   "metadata": {},
   "outputs": [],
   "source": [
    "def similarity_rankings(users, similarity_scores, num_recs: int=5) -> pd.DataFrame:\n",
    "    user_recs_dict = {\"user\":[],\"recommendation\":[],\"score\":[], \"ranking\":[]}\n",
    "    for i,user in enumerate(users):\n",
    "        # get sim scores and remove current user\n",
    "        curr_sim_scores = np.delete(similarity_scores[i].copy(),i)\n",
    "        curr_users = np.delete(np.array(users.copy()),i)\n",
    "        # get recs\n",
    "        for i in range(num_recs):\n",
    "            user_recs_dict[\"user\"].append(user)\n",
    "            # current most similar user and score\n",
    "            top_sim_idx = np.argmax(curr_sim_scores)\n",
    "            top_sim_user = curr_users[top_sim_idx]\n",
    "            top_sim_score = curr_sim_scores[top_sim_idx]\n",
    "            user_recs_dict[\"recommendation\"].append(top_sim_user)\n",
    "            user_recs_dict[\"score\"].append(top_sim_score)\n",
    "            user_recs_dict[\"ranking\"].append(i+1)\n",
    "            # remove from lists\n",
    "            curr_sim_scores = np.delete(curr_sim_scores,top_sim_idx)\n",
    "            curr_users = np.delete(curr_users,top_sim_idx)\n",
    "\n",
    "    user_recs = pd.DataFrame.from_dict(user_recs_dict)\n",
    "    return user_recs"
   ]
  },
  {
   "cell_type": "code",
   "execution_count": null,
   "id": "martial-union",
   "metadata": {},
   "outputs": [],
   "source": [
    "cos_user_recs = similarity_rankings(users, cos_similarity)\n",
    "rand_users = np.random.choice(users,size=8,replace=False)\n",
    "fig,axes = plt.subplots(4,2,figsize=(15,10),sharey=True)\n",
    "for i,(user,ax) in enumerate(zip(rand_users,np.ravel(axes))):\n",
    "    curr_user = cos_user_recs[cos_user_recs[\"user\"]==user]\n",
    "    ax.bar(curr_user.recommendation,curr_user.score)\n",
    "    ax.set_title(user)\n",
    "    ax.set_ylabel(\"cosine similarity\") if not i%2 else ax.set_ylabel(\"\")\n",
    "plt.tight_layout()\n",
    "plt.show()"
   ]
  },
  {
   "cell_type": "markdown",
   "id": "laughing-shift",
   "metadata": {},
   "source": [
    "# Visualize highest ranked matches"
   ]
  },
  {
   "cell_type": "code",
   "execution_count": null,
   "id": "intensive-asbestos",
   "metadata": {},
   "outputs": [],
   "source": [
    "top_pairs = []\n",
    "sorted_recs = cos_user_recs.sort_values(\"score\",ascending=False)\n",
    "sorted_recs[:20]"
   ]
  },
  {
   "cell_type": "code",
   "execution_count": null,
   "id": "ahead-navigator",
   "metadata": {},
   "outputs": [],
   "source": [
    "columns = [\"Experience\",\"Skills\",\"Stages\",\"Objectives\",\"Interests\"]\n",
    "for idx,row in sorted_recs[:5].iterrows():\n",
    "    fig = viz.compare_users(row[\"user\"], row[\"recommendation\"], columns)"
   ]
  },
  {
   "cell_type": "code",
   "execution_count": null,
   "id": "colored-atlantic",
   "metadata": {},
   "outputs": [],
   "source": []
  }
 ],
 "metadata": {
  "kernelspec": {
   "display_name": "Python 3",
   "language": "python",
   "name": "python3"
  },
  "language_info": {
   "codemirror_mode": {
    "name": "ipython",
    "version": 3
   },
   "file_extension": ".py",
   "mimetype": "text/x-python",
   "name": "python",
   "nbconvert_exporter": "python",
   "pygments_lexer": "ipython3",
   "version": "3.7.7"
  }
 },
 "nbformat": 4,
 "nbformat_minor": 5
}
