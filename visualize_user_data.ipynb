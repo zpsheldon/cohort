{
 "cells": [
  {
   "cell_type": "markdown",
   "id": "approximate-ambassador",
   "metadata": {},
   "source": [
    "# Imports"
   ]
  },
  {
   "cell_type": "code",
   "execution_count": null,
   "id": "neither-photographer",
   "metadata": {},
   "outputs": [],
   "source": [
    "import pandas as pd\n",
    "import numpy as np\n",
    "import matplotlib.pyplot as plt\n",
    "import seaborn as sns\n",
    "from ast import literal_eval\n",
    "import nltk\n",
    "import plotly.graph_objects as go\n",
    "from plotly.subplots import make_subplots\n",
    "import plotly.express as px"
   ]
  },
  {
   "cell_type": "markdown",
   "id": "central-rescue",
   "metadata": {},
   "source": [
    "# Load data"
   ]
  },
  {
   "cell_type": "code",
   "execution_count": null,
   "id": "imported-administration",
   "metadata": {},
   "outputs": [],
   "source": [
    "clean_df = pd.read_csv(\"data/clean_data.csv\")"
   ]
  },
  {
   "cell_type": "markdown",
   "id": "double-retail",
   "metadata": {},
   "source": [
    "# Breakdown of terms "
   ]
  },
  {
   "cell_type": "markdown",
   "id": "permanent-cherry",
   "metadata": {},
   "source": [
    "### Frequency"
   ]
  },
  {
   "cell_type": "code",
   "execution_count": null,
   "id": "normal-postage",
   "metadata": {},
   "outputs": [],
   "source": [
    "cols_to_plot = [\"Experience\",\"Skills\",\"Stages\",\"Objectives\",\"Interests\",\"Looking for\"]\n",
    "\n",
    "for idx,category in enumerate(cols_to_plot):\n",
    "    # get all terms for this category from each user\n",
    "    all_terms = []\n",
    "    for i,val in clean_df[category].iteritems():\n",
    "        if isinstance(val,str) and val != \"NaN\":\n",
    "            all_terms.extend(literal_eval(val))\n",
    "    \n",
    "    # calculate frequency of terms\n",
    "    freq = nltk.FreqDist(all_terms)\n",
    "    sorted_freq = {k: v for k, v in sorted(freq.items(), key=lambda item: item[1])[::-1]}\n",
    "    labels = list(sorted_freq.keys())\n",
    "    term_freqs = [100*(term/len(all_terms)) for term in list(sorted_freq.values())]\n",
    "    \n",
    "    fig = px.pie(\n",
    "        names=labels,\n",
    "        values=term_freqs,\n",
    "        title=category\n",
    "    )\n",
    "    fig.update_traces(textposition='inside', textinfo='percent+label')\n",
    "    fig.show()"
   ]
  },
  {
   "cell_type": "code",
   "execution_count": null,
   "id": "through-slovak",
   "metadata": {},
   "outputs": [],
   "source": [
    "skill_tags = [\n",
    "    \"Software Engineering\",\n",
    "    \"Business Development\",\n",
    "    \"Product Management\",\n",
    "    \"Research\",\n",
    "    \"Communications\",\n",
    "    \"Data Science\",\n",
    "    \"Operations\",\n",
    "    \"Growth\",\n",
    "    \"Analytics\",\n",
    "    \"Marketing\",\n",
    "    \"Product Management\",\n",
    "    \"Recruiting\",\n",
    "    \"Executives\",\n",
    "    \"Sales\",\n",
    "    \"Design\",\n",
    "    \"Customer Service\",\n",
    "    \"Finance\",\n",
    "    \"Hardware Engineering\",\n",
    "]"
   ]
  },
  {
   "cell_type": "markdown",
   "id": "desperate-swaziland",
   "metadata": {},
   "source": [
    "### Skills vs. Looking for"
   ]
  },
  {
   "cell_type": "code",
   "execution_count": null,
   "id": "bridal-attendance",
   "metadata": {},
   "outputs": [],
   "source": [
    "# get all terms for this category from each user\n",
    "all_skills = []\n",
    "for i,val in clean_df[\"Skills\"].iteritems():\n",
    "    if isinstance(val,str) and val != \"NaN\":\n",
    "        all_skills.extend(literal_eval(val)) \n",
    "# calculate frequency of terms\n",
    "skills_freq = nltk.FreqDist(all_skills)\n",
    "sorted_skills_freq = {k: v for k, v in sorted(freq.items(), key=lambda item: item[1])[::-1]}\n",
    "skill_freq = {skill:100*(skills_freq[skill]/len(all_skills)) for skill in skills_freq}\n",
    "skill_freq"
   ]
  },
  {
   "cell_type": "code",
   "execution_count": null,
   "id": "southwest-bible",
   "metadata": {},
   "outputs": [],
   "source": [
    "# get all terms for this category from each user\n",
    "all_looking = []\n",
    "for i,val in clean_df[\"Looking for\"].iteritems():\n",
    "    if isinstance(val,str) and val != \"NaN\":\n",
    "        all_looking.extend(literal_eval(val)) \n",
    "# calculate frequency of terms\n",
    "looking_freq = nltk.FreqDist(all_looking)\n",
    "sorted_looking_freq = {k: v for k, v in sorted(freq.items(), key=lambda item: item[1])[::-1]}\n",
    "looking_freq = {term:100*(looking_freq[term]/len(all_looking)) for term in looking_freq}\n",
    "looking_freq"
   ]
  },
  {
   "cell_type": "code",
   "execution_count": null,
   "id": "legal-coupon",
   "metadata": {},
   "outputs": [],
   "source": [
    "for term in looking_freq:\n",
    "    if term not in skills_freq:\n",
    "        print(f\"{term} not in skills\")\n",
    "for term in skills_freq:\n",
    "    if term not in looking_freq:\n",
    "        print(f\"{term} not in looking for\")"
   ]
  },
  {
   "cell_type": "code",
   "execution_count": null,
   "id": "antique-syndrome",
   "metadata": {},
   "outputs": [],
   "source": [
    "labels = list(skills_freq.keys())\n",
    "df = pd.DataFrame({\"Term\":[], \"%\": [], \"Category\": []})\n",
    "for label in labels:\n",
    "    df = df.append(\n",
    "        pd.DataFrame.from_dict({\n",
    "            \"Term\":[label,label],\n",
    "            \"%\":[skills_freq[label],looking_freq[label]],\n",
    "            \"Category\":[\"Skill\",\"Looking for\"]\n",
    "        }),ignore_index=True)\n",
    "df"
   ]
  },
  {
   "cell_type": "code",
   "execution_count": null,
   "id": "twenty-update",
   "metadata": {},
   "outputs": [],
   "source": [
    "fig = plt.figure(figsize=(15,6))\n",
    "sns.barplot(data=df,x=\"Term\",y=\"%\",hue=\"Category\")\n",
    "plt.xticks(rotation=45,fontsize=12)\n",
    "plt.xlabel(\"\")\n",
    "plt.yticks(fontsize=12)\n",
    "plt.ylabel(\"% of Responses\",fontsize=14)\n",
    "plt.show()"
   ]
  },
  {
   "cell_type": "markdown",
   "id": "sixth-saskatchewan",
   "metadata": {},
   "source": [
    "# Breakdown of users"
   ]
  },
  {
   "cell_type": "code",
   "execution_count": null,
   "id": "differential-therapy",
   "metadata": {},
   "outputs": [],
   "source": [
    "loc_df = clean_df.copy().drop(columns=[\"Bio\"]+cols_to_plot).astype(str)\n",
    "loc_df[\"City\"] = [row[\"Location\"].split(\",\")[0].strip() if len(row[\"Location\"].split(\",\")) > 1 else \"Other\" for idx,row in loc_df.iterrows()]\n",
    "loc_df[\"Country\"] = [row[\"Location\"].split(\",\")[1].strip() if len(row[\"Location\"].split(\",\")) > 1 else \"Other\" for idx,row in loc_df.iterrows()]"
   ]
  },
  {
   "cell_type": "code",
   "execution_count": null,
   "id": "prompt-setting",
   "metadata": {},
   "outputs": [],
   "source": [
    "fig = px.pie(loc_df.groupby(\"Country\",as_index=False).count(),values=\"Name\",names=\"Country\",title=f\"{len(df)} Fellows\")\n",
    "fig.show()"
   ]
  },
  {
   "cell_type": "code",
   "execution_count": null,
   "id": "reserved-twelve",
   "metadata": {},
   "outputs": [],
   "source": []
  }
 ],
 "metadata": {
  "kernelspec": {
   "display_name": "Python 3",
   "language": "python",
   "name": "python3"
  },
  "language_info": {
   "codemirror_mode": {
    "name": "ipython",
    "version": 3
   },
   "file_extension": ".py",
   "mimetype": "text/x-python",
   "name": "python",
   "nbconvert_exporter": "python",
   "pygments_lexer": "ipython3",
   "version": "3.7.7"
  }
 },
 "nbformat": 4,
 "nbformat_minor": 5
}
